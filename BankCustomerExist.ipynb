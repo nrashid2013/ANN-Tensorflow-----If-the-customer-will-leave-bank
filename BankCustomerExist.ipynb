{
 "cells": [
  {
   "cell_type": "markdown",
   "metadata": {
    "scrolled": true
   },
   "source": [
    "# Artificial Neural Network"
   ]
  },
  {
   "cell_type": "markdown",
   "metadata": {},
   "source": [
    "### Part 1 - Data Preprocessing"
   ]
  },
  {
   "cell_type": "code",
   "execution_count": 1,
   "metadata": {},
   "outputs": [],
   "source": [
    "#Importing libraries \n",
    "import numpy as np\n",
    "import matplotlib.pyplot as plt\n",
    "import pandas as pd"
   ]
  },
  {
   "cell_type": "code",
   "execution_count": 2,
   "metadata": {},
   "outputs": [],
   "source": [
    "#importing dataset \n",
    "dataset = pd.read_csv('BankCustomers.csv')\n",
    "X = dataset.iloc[:, 3:13]\n",
    "y = dataset.iloc[:, 13]"
   ]
  },
  {
   "cell_type": "code",
   "execution_count": 3,
   "metadata": {},
   "outputs": [
    {
     "name": "stdout",
     "output_type": "stream",
     "text": [
      "   CreditScore Geography  Gender  Age  Tenure   Balance  NumOfProducts  \\\n",
      "0          619    France  Female   42       2      0.00              1   \n",
      "1          608     Spain  Female   41       1  83807.86              1   \n",
      "\n",
      "   HasCrCard  IsActiveMember  EstimatedSalary  \n",
      "0          1               1        101348.88  \n",
      "1          0               1        112542.58  \n"
     ]
    }
   ],
   "source": [
    "print(X[0:2])"
   ]
  },
  {
   "cell_type": "code",
   "execution_count": 4,
   "metadata": {},
   "outputs": [
    {
     "name": "stdout",
     "output_type": "stream",
     "text": [
      "0    1\n",
      "1    0\n",
      "Name: Exited, dtype: int64\n"
     ]
    }
   ],
   "source": [
    "print(y[0:2])"
   ]
  },
  {
   "cell_type": "code",
   "execution_count": 5,
   "metadata": {},
   "outputs": [
    {
     "name": "stdout",
     "output_type": "stream",
     "text": [
      "Index(['CreditScore', 'Geography', 'Gender', 'Age', 'Tenure', 'Balance',\n",
      "       'NumOfProducts', 'HasCrCard', 'IsActiveMember', 'EstimatedSalary'],\n",
      "      dtype='object')\n"
     ]
    }
   ],
   "source": [
    "print(X.columns)"
   ]
  },
  {
   "cell_type": "code",
   "execution_count": 6,
   "metadata": {},
   "outputs": [
    {
     "name": "stdout",
     "output_type": "stream",
     "text": [
      "Exited\n"
     ]
    }
   ],
   "source": [
    "print(y.name)"
   ]
  },
  {
   "cell_type": "code",
   "execution_count": 7,
   "metadata": {},
   "outputs": [
    {
     "name": "stdout",
     "output_type": "stream",
     "text": [
      "(10000, 10) (10000,)\n"
     ]
    }
   ],
   "source": [
    "print(X.shape, y.shape)"
   ]
  },
  {
   "cell_type": "code",
   "execution_count": 8,
   "metadata": {},
   "outputs": [
    {
     "name": "stdout",
     "output_type": "stream",
     "text": [
      "<bound method NDFrame.describe of    CreditScore Geography  Gender  Age  Tenure    Balance  NumOfProducts  \\\n",
      "0          619    France  Female   42       2       0.00              1   \n",
      "1          608     Spain  Female   41       1   83807.86              1   \n",
      "2          502    France  Female   42       8  159660.80              3   \n",
      "3          699    France  Female   39       1       0.00              2   \n",
      "4          850     Spain  Female   43       2  125510.82              1   \n",
      "5          645     Spain    Male   44       8  113755.78              2   \n",
      "6          822    France    Male   50       7       0.00              2   \n",
      "7          376   Germany  Female   29       4  115046.74              4   \n",
      "8          501    France    Male   44       4  142051.07              2   \n",
      "9          684    France    Male   27       2  134603.88              1   \n",
      "\n",
      "   HasCrCard  IsActiveMember  EstimatedSalary  \n",
      "0          1               1        101348.88  \n",
      "1          0               1        112542.58  \n",
      "2          1               0        113931.57  \n",
      "3          0               0         93826.63  \n",
      "4          1               1         79084.10  \n",
      "5          1               0        149756.71  \n",
      "6          1               1         10062.80  \n",
      "7          1               0        119346.88  \n",
      "8          0               1         74940.50  \n",
      "9          1               1         71725.73  >\n"
     ]
    }
   ],
   "source": [
    "print(X[0:10].describe)"
   ]
  },
  {
   "cell_type": "code",
   "execution_count": 9,
   "metadata": {},
   "outputs": [
    {
     "name": "stdout",
     "output_type": "stream",
     "text": [
      "<bound method NDFrame.describe of 0    1\n",
      "1    0\n",
      "2    1\n",
      "3    0\n",
      "4    0\n",
      "5    1\n",
      "6    0\n",
      "7    1\n",
      "8    0\n",
      "9    0\n",
      "Name: Exited, dtype: int64>\n"
     ]
    }
   ],
   "source": [
    "print(y[0:10].describe)"
   ]
  },
  {
   "cell_type": "code",
   "execution_count": 10,
   "metadata": {},
   "outputs": [],
   "source": [
    "#convert categorical feature into the dummies vairable\n",
    "states = pd.get_dummies(X['Geography'], drop_first=True)\n",
    "gender = pd.get_dummies(X['Gender'], drop_first=True)"
   ]
  },
  {
   "cell_type": "code",
   "execution_count": 11,
   "metadata": {},
   "outputs": [
    {
     "name": "stdout",
     "output_type": "stream",
     "text": [
      "   Germany  Spain\n",
      "0        0      0\n",
      "1        0      1\n",
      "2        0      0\n",
      "3        0      0\n",
      "4        0      1\n"
     ]
    }
   ],
   "source": [
    "print(states[0:5])"
   ]
  },
  {
   "cell_type": "code",
   "execution_count": 12,
   "metadata": {},
   "outputs": [
    {
     "name": "stdout",
     "output_type": "stream",
     "text": [
      "   Male\n",
      "0     0\n",
      "1     0\n",
      "2     0\n",
      "3     0\n",
      "4     0\n"
     ]
    }
   ],
   "source": [
    "print(gender[0:5])"
   ]
  },
  {
   "cell_type": "code",
   "execution_count": 13,
   "metadata": {},
   "outputs": [],
   "source": [
    "#cancatenate the remaining dummies columns\n",
    "X=pd.concat([X, states, gender], axis=1)"
   ]
  },
  {
   "cell_type": "code",
   "execution_count": 14,
   "metadata": {},
   "outputs": [
    {
     "name": "stdout",
     "output_type": "stream",
     "text": [
      "   CreditScore Geography  Gender  Age  Tenure   Balance  NumOfProducts  \\\n",
      "0          619    France  Female   42       2      0.00              1   \n",
      "1          608     Spain  Female   41       1  83807.86              1   \n",
      "\n",
      "   HasCrCard  IsActiveMember  EstimatedSalary  Germany  Spain  Male  \n",
      "0          1               1        101348.88        0      0     0  \n",
      "1          0               1        112542.58        0      1     0  \n"
     ]
    }
   ],
   "source": [
    "print(X[0:2])"
   ]
  },
  {
   "cell_type": "code",
   "execution_count": 15,
   "metadata": {},
   "outputs": [
    {
     "name": "stdout",
     "output_type": "stream",
     "text": [
      "   CreditScore  Age  Tenure   Balance  NumOfProducts  HasCrCard  \\\n",
      "0          619   42       2      0.00              1          1   \n",
      "1          608   41       1  83807.86              1          0   \n",
      "\n",
      "   IsActiveMember  EstimatedSalary  Germany  Spain  Male  \n",
      "0               1        101348.88        0      0     0  \n",
      "1               1        112542.58        0      1     0  \n"
     ]
    }
   ],
   "source": [
    "#drop the columns as it's no longer required\n",
    "X=X.drop(['Geography','Gender'], axis=1)\n",
    "print(X[0:2])"
   ]
  },
  {
   "cell_type": "code",
   "execution_count": 16,
   "metadata": {},
   "outputs": [],
   "source": [
    "#Splitting the dataset into the Training and Test set\n",
    "from sklearn.model_selection import train_test_split\n",
    "X_train, X_test, y_train, y_test = train_test_split(X, y, test_size=0.2, random_state=0)"
   ]
  },
  {
   "cell_type": "code",
   "execution_count": 17,
   "metadata": {},
   "outputs": [
    {
     "name": "stdout",
     "output_type": "stream",
     "text": [
      "(8000, 11) (8000,)\n"
     ]
    }
   ],
   "source": [
    "print(X_train.shape,  y_train.shape)"
   ]
  },
  {
   "cell_type": "code",
   "execution_count": 18,
   "metadata": {},
   "outputs": [
    {
     "name": "stdout",
     "output_type": "stream",
     "text": [
      "(2000, 11) (2000,)\n"
     ]
    }
   ],
   "source": [
    "print(X_test.shape, y_test.shape)"
   ]
  },
  {
   "cell_type": "code",
   "execution_count": 19,
   "metadata": {},
   "outputs": [],
   "source": [
    "#Feature scaling \n",
    "from sklearn.preprocessing import StandardScaler\n",
    "sc = StandardScaler()\n",
    "X_train = sc.fit_transform(X_train)\n",
    "X_test = sc.transform(X_test)"
   ]
  },
  {
   "cell_type": "markdown",
   "metadata": {},
   "source": [
    "### Part 2 Making the ANN"
   ]
  },
  {
   "cell_type": "code",
   "execution_count": 20,
   "metadata": {},
   "outputs": [
    {
     "name": "stdout",
     "output_type": "stream",
     "text": [
      "WARNING:tensorflow:\n",
      "\n",
      "  TensorFlow's `tf-nightly` package will soon be updated to TensorFlow 2.0.\n",
      "\n",
      "  Please upgrade your code to TensorFlow 2.0:\n",
      "    * https://www.tensorflow.org/beta/guide/migration_guide\n",
      "\n",
      "  Or install the latest stable TensorFlow 1.X release:\n",
      "    * `pip install -U \"tensorflow==1.*\"`\n",
      "\n",
      "  Otherwise your code may be broken by the change.\n",
      "\n",
      "  \n"
     ]
    }
   ],
   "source": [
    "#Importing the keras libraries and package \n",
    "import tensorflow.keras\n",
    "from tensorflow.keras.models import Sequential\n",
    "from tensorflow.keras.layers import Dense"
   ]
  },
  {
   "cell_type": "code",
   "execution_count": 21,
   "metadata": {},
   "outputs": [],
   "source": [
    "#Initializing the ANN\n",
    "classifier = Sequential()"
   ]
  },
  {
   "cell_type": "code",
   "execution_count": 22,
   "metadata": {},
   "outputs": [
    {
     "name": "stdout",
     "output_type": "stream",
     "text": [
      "WARNING:tensorflow:From C:\\ProgramData\\Anaconda3\\lib\\site-packages\\tensorflow_core\\python\\keras\\initializers.py:119: calling RandomUniform.__init__ (from tensorflow.python.ops.init_ops) with dtype is deprecated and will be removed in a future version.\n",
      "Instructions for updating:\n",
      "Call initializer instance with the dtype argument instead of passing it to the constructor\n",
      "WARNING:tensorflow:From C:\\ProgramData\\Anaconda3\\lib\\site-packages\\tensorflow_core\\python\\ops\\resource_variable_ops.py:1630: calling BaseResourceVariable.__init__ (from tensorflow.python.ops.resource_variable_ops) with constraint is deprecated and will be removed in a future version.\n",
      "Instructions for updating:\n",
      "If using Keras pass *_constraint arguments to layers.\n"
     ]
    }
   ],
   "source": [
    "#Adding the input layer and the first hidden layer\n",
    "classifier.add(Dense(activation=\"relu\", input_dim=11, units=6, kernel_initializer=\"uniform\")) "
   ]
  },
  {
   "cell_type": "code",
   "execution_count": 23,
   "metadata": {},
   "outputs": [],
   "source": [
    "#Adding the second hidden layer\n",
    "classifier.add(Dense(activation=\"relu\", units=6, kernel_initializer=\"uniform\"))"
   ]
  },
  {
   "cell_type": "code",
   "execution_count": 24,
   "metadata": {},
   "outputs": [],
   "source": [
    "#Adding the output layer\n",
    "classifier.add(Dense(activation=\"sigmoid\", units=1, kernel_initializer=\"uniform\"))"
   ]
  },
  {
   "cell_type": "code",
   "execution_count": 25,
   "metadata": {},
   "outputs": [
    {
     "name": "stdout",
     "output_type": "stream",
     "text": [
      "WARNING:tensorflow:From C:\\ProgramData\\Anaconda3\\lib\\site-packages\\tensorflow_core\\python\\ops\\nn_impl.py:183: where (from tensorflow.python.ops.array_ops) is deprecated and will be removed in a future version.\n",
      "Instructions for updating:\n",
      "Use tf.where in 2.0, which has the same broadcast rule as np.where\n"
     ]
    }
   ],
   "source": [
    "#compiling the ANN\n",
    "classifier.compile(optimizer='adam', loss='binary_crossentropy', metrics=['accuracy'])"
   ]
  },
  {
   "cell_type": "code",
   "execution_count": 26,
   "metadata": {},
   "outputs": [
    {
     "name": "stdout",
     "output_type": "stream",
     "text": [
      "WARNING:tensorflow:The `nb_epoch` argument in `fit` has been renamed `epochs`.\n",
      "Train on 8000 samples\n",
      "Epoch 1/100\n",
      "8000/8000 [==============================] - 1s 63us/sample - loss: 0.4889 - acc: 0.7960\n",
      "Epoch 2/100\n",
      "8000/8000 [==============================] - 0s 58us/sample - loss: 0.4302 - acc: 0.7960\n",
      "Epoch 3/100\n",
      "8000/8000 [==============================] - 0s 53us/sample - loss: 0.4266 - acc: 0.7960\n",
      "Epoch 4/100\n",
      "8000/8000 [==============================] - 0s 56us/sample - loss: 0.4227 - acc: 0.7969\n",
      "Epoch 5/100\n",
      "8000/8000 [==============================] - 0s 57us/sample - loss: 0.4189 - acc: 0.8195\n",
      "Epoch 6/100\n",
      "8000/8000 [==============================] - 0s 55us/sample - loss: 0.4170 - acc: 0.8235\n",
      "Epoch 7/100\n",
      "8000/8000 [==============================] - 0s 57us/sample - loss: 0.4148 - acc: 0.8278\n",
      "Epoch 8/100\n",
      "8000/8000 [==============================] - 0s 55us/sample - loss: 0.4132 - acc: 0.8294\n",
      "Epoch 9/100\n",
      "8000/8000 [==============================] - 0s 57us/sample - loss: 0.4121 - acc: 0.8324\n",
      "Epoch 10/100\n",
      "8000/8000 [==============================] - 0s 54us/sample - loss: 0.4110 - acc: 0.8324\n",
      "Epoch 11/100\n",
      "8000/8000 [==============================] - 0s 58us/sample - loss: 0.4101 - acc: 0.8338\n",
      "Epoch 12/100\n",
      "8000/8000 [==============================] - 0s 54us/sample - loss: 0.4089 - acc: 0.8329\n",
      "Epoch 13/100\n",
      "8000/8000 [==============================] - 0s 57us/sample - loss: 0.4083 - acc: 0.8335\n",
      "Epoch 14/100\n",
      "8000/8000 [==============================] - 0s 59us/sample - loss: 0.4072 - acc: 0.8344\n",
      "Epoch 15/100\n",
      "8000/8000 [==============================] - 0s 56us/sample - loss: 0.4065 - acc: 0.8354\n",
      "Epoch 16/100\n",
      "8000/8000 [==============================] - 0s 56us/sample - loss: 0.4060 - acc: 0.8344\n",
      "Epoch 17/100\n",
      "8000/8000 [==============================] - 0s 57us/sample - loss: 0.4053 - acc: 0.8355\n",
      "Epoch 18/100\n",
      "8000/8000 [==============================] - 0s 58us/sample - loss: 0.4053 - acc: 0.8346\n",
      "Epoch 19/100\n",
      "8000/8000 [==============================] - 0s 55us/sample - loss: 0.4049 - acc: 0.8363\n",
      "Epoch 20/100\n",
      "8000/8000 [==============================] - 0s 58us/sample - loss: 0.4044 - acc: 0.8353\n",
      "Epoch 21/100\n",
      "8000/8000 [==============================] - 0s 56us/sample - loss: 0.4041 - acc: 0.8351\n",
      "Epoch 22/100\n",
      "8000/8000 [==============================] - 0s 59us/sample - loss: 0.4041 - acc: 0.8351\n",
      "Epoch 23/100\n",
      "8000/8000 [==============================] - 0s 57us/sample - loss: 0.4035 - acc: 0.8353\n",
      "Epoch 24/100\n",
      "8000/8000 [==============================] - 0s 56us/sample - loss: 0.4035 - acc: 0.8356\n",
      "Epoch 25/100\n",
      "8000/8000 [==============================] - 0s 56us/sample - loss: 0.4035 - acc: 0.8356\n",
      "Epoch 26/100\n",
      "8000/8000 [==============================] - 0s 58us/sample - loss: 0.4026 - acc: 0.8353\n",
      "Epoch 27/100\n",
      "8000/8000 [==============================] - 0s 56us/sample - loss: 0.4030 - acc: 0.8346\n",
      "Epoch 28/100\n",
      "8000/8000 [==============================] - 0s 58us/sample - loss: 0.4026 - acc: 0.8359\n",
      "Epoch 29/100\n",
      "8000/8000 [==============================] - 0s 56us/sample - loss: 0.4025 - acc: 0.8355\n",
      "Epoch 30/100\n",
      "8000/8000 [==============================] - 0s 57us/sample - loss: 0.4025 - acc: 0.8344\n",
      "Epoch 31/100\n",
      "8000/8000 [==============================] - 0s 57us/sample - loss: 0.4024 - acc: 0.8332\n",
      "Epoch 32/100\n",
      "8000/8000 [==============================] - 0s 56us/sample - loss: 0.4024 - acc: 0.8366\n",
      "Epoch 33/100\n",
      "8000/8000 [==============================] - 0s 58us/sample - loss: 0.4020 - acc: 0.8364\n",
      "Epoch 34/100\n",
      "8000/8000 [==============================] - 0s 57us/sample - loss: 0.4020 - acc: 0.8366\n",
      "Epoch 35/100\n",
      "8000/8000 [==============================] - 0s 57us/sample - loss: 0.4018 - acc: 0.8350\n",
      "Epoch 36/100\n",
      "8000/8000 [==============================] - 0s 57us/sample - loss: 0.4019 - acc: 0.8342\n",
      "Epoch 37/100\n",
      "8000/8000 [==============================] - 0s 57us/sample - loss: 0.4016 - acc: 0.8339\n",
      "Epoch 38/100\n",
      "8000/8000 [==============================] - 0s 56us/sample - loss: 0.4017 - acc: 0.8369\n",
      "Epoch 39/100\n",
      "8000/8000 [==============================] - 0s 58us/sample - loss: 0.4014 - acc: 0.8346\n",
      "Epoch 40/100\n",
      "8000/8000 [==============================] - 0s 58us/sample - loss: 0.4019 - acc: 0.8356\n",
      "Epoch 41/100\n",
      "8000/8000 [==============================] - 0s 58us/sample - loss: 0.4016 - acc: 0.8331\n",
      "Epoch 42/100\n",
      "8000/8000 [==============================] - 0s 57us/sample - loss: 0.4009 - acc: 0.8350\n",
      "Epoch 43/100\n",
      "8000/8000 [==============================] - 0s 56us/sample - loss: 0.4011 - acc: 0.8351\n",
      "Epoch 44/100\n",
      "8000/8000 [==============================] - 0s 57us/sample - loss: 0.4013 - acc: 0.8354\n",
      "Epoch 45/100\n",
      "8000/8000 [==============================] - 0s 57us/sample - loss: 0.4011 - acc: 0.8347\n",
      "Epoch 46/100\n",
      "8000/8000 [==============================] - 0s 57us/sample - loss: 0.4009 - acc: 0.8355\n",
      "Epoch 47/100\n",
      "8000/8000 [==============================] - 0s 56us/sample - loss: 0.4003 - acc: 0.8355\n",
      "Epoch 48/100\n",
      "8000/8000 [==============================] - 0s 59us/sample - loss: 0.4004 - acc: 0.8354\n",
      "Epoch 49/100\n",
      "8000/8000 [==============================] - 0s 59us/sample - loss: 0.4007 - acc: 0.8356\n",
      "Epoch 50/100\n",
      "8000/8000 [==============================] - 0s 57us/sample - loss: 0.3998 - acc: 0.8346\n",
      "Epoch 51/100\n",
      "8000/8000 [==============================] - 0s 57us/sample - loss: 0.4001 - acc: 0.8347\n",
      "Epoch 52/100\n",
      "8000/8000 [==============================] - 0s 61us/sample - loss: 0.3994 - acc: 0.8350\n",
      "Epoch 53/100\n",
      "8000/8000 [==============================] - 0s 61us/sample - loss: 0.3996 - acc: 0.8355\n",
      "Epoch 54/100\n",
      "8000/8000 [==============================] - 0s 61us/sample - loss: 0.3992 - acc: 0.8363\n",
      "Epoch 55/100\n",
      "8000/8000 [==============================] - 0s 56us/sample - loss: 0.3993 - acc: 0.8355\n",
      "Epoch 56/100\n",
      "8000/8000 [==============================] - 0s 57us/sample - loss: 0.3985 - acc: 0.8360\n",
      "Epoch 57/100\n",
      "8000/8000 [==============================] - 0s 56us/sample - loss: 0.3982 - acc: 0.8351\n",
      "Epoch 58/100\n",
      "8000/8000 [==============================] - 0s 56us/sample - loss: 0.3981 - acc: 0.8365\n",
      "Epoch 59/100\n",
      "8000/8000 [==============================] - 0s 57us/sample - loss: 0.3976 - acc: 0.8361\n",
      "Epoch 60/100\n",
      "8000/8000 [==============================] - 0s 56us/sample - loss: 0.3979 - acc: 0.8360\n",
      "Epoch 61/100\n",
      "8000/8000 [==============================] - 0s 57us/sample - loss: 0.3973 - acc: 0.8351\n",
      "Epoch 62/100\n",
      "8000/8000 [==============================] - 0s 55us/sample - loss: 0.3975 - acc: 0.8361\n",
      "Epoch 63/100\n",
      "8000/8000 [==============================] - 0s 57us/sample - loss: 0.3969 - acc: 0.8360\n",
      "Epoch 64/100\n",
      "8000/8000 [==============================] - 0s 55us/sample - loss: 0.3964 - acc: 0.8334\n",
      "Epoch 65/100\n",
      "8000/8000 [==============================] - 0s 58us/sample - loss: 0.3970 - acc: 0.8364\n",
      "Epoch 66/100\n",
      "8000/8000 [==============================] - 0s 56us/sample - loss: 0.3961 - acc: 0.8357\n",
      "Epoch 67/100\n",
      "8000/8000 [==============================] - 0s 58us/sample - loss: 0.3962 - acc: 0.8366\n",
      "Epoch 68/100\n",
      "8000/8000 [==============================] - 0s 55us/sample - loss: 0.3956 - acc: 0.8354\n",
      "Epoch 69/100\n",
      "8000/8000 [==============================] - 0s 57us/sample - loss: 0.3958 - acc: 0.8354\n",
      "Epoch 70/100\n",
      "8000/8000 [==============================] - 0s 57us/sample - loss: 0.3957 - acc: 0.8364\n",
      "Epoch 71/100\n",
      "8000/8000 [==============================] - 0s 55us/sample - loss: 0.3954 - acc: 0.8364\n",
      "Epoch 72/100\n",
      "8000/8000 [==============================] - 0s 58us/sample - loss: 0.3954 - acc: 0.8370\n",
      "Epoch 73/100\n",
      "8000/8000 [==============================] - 0s 56us/sample - loss: 0.3949 - acc: 0.8365\n",
      "Epoch 74/100\n",
      "8000/8000 [==============================] - 0s 56us/sample - loss: 0.3952 - acc: 0.8370\n",
      "Epoch 75/100\n",
      "8000/8000 [==============================] - 0s 56us/sample - loss: 0.3954 - acc: 0.8363\n",
      "Epoch 76/100\n",
      "8000/8000 [==============================] - 0s 56us/sample - loss: 0.3950 - acc: 0.8361\n",
      "Epoch 77/100\n",
      "8000/8000 [==============================] - 0s 56us/sample - loss: 0.3946 - acc: 0.8372\n",
      "Epoch 78/100\n",
      "8000/8000 [==============================] - 0s 58us/sample - loss: 0.3945 - acc: 0.8369\n",
      "Epoch 79/100\n",
      "8000/8000 [==============================] - 0s 55us/sample - loss: 0.3946 - acc: 0.8382\n",
      "Epoch 80/100\n"
     ]
    },
    {
     "name": "stdout",
     "output_type": "stream",
     "text": [
      "8000/8000 [==============================] - 0s 56us/sample - loss: 0.3947 - acc: 0.8365\n",
      "Epoch 81/100\n",
      "8000/8000 [==============================] - 0s 55us/sample - loss: 0.3940 - acc: 0.8372\n",
      "Epoch 82/100\n",
      "8000/8000 [==============================] - 0s 54us/sample - loss: 0.3942 - acc: 0.8365\n",
      "Epoch 83/100\n",
      "8000/8000 [==============================] - 0s 54us/sample - loss: 0.3944 - acc: 0.8380\n",
      "Epoch 84/100\n",
      "8000/8000 [==============================] - 0s 55us/sample - loss: 0.3942 - acc: 0.8372\n",
      "Epoch 85/100\n",
      "8000/8000 [==============================] - 0s 55us/sample - loss: 0.3941 - acc: 0.8372\n",
      "Epoch 86/100\n",
      "8000/8000 [==============================] - 0s 54us/sample - loss: 0.3944 - acc: 0.8369\n",
      "Epoch 87/100\n",
      "8000/8000 [==============================] - 0s 54us/sample - loss: 0.3943 - acc: 0.8372\n",
      "Epoch 88/100\n",
      "8000/8000 [==============================] - 0s 54us/sample - loss: 0.3937 - acc: 0.8363\n",
      "Epoch 89/100\n",
      "8000/8000 [==============================] - 0s 53us/sample - loss: 0.3937 - acc: 0.8374\n",
      "Epoch 90/100\n",
      "8000/8000 [==============================] - 0s 53us/sample - loss: 0.3933 - acc: 0.8371\n",
      "Epoch 91/100\n",
      "8000/8000 [==============================] - 0s 53us/sample - loss: 0.3934 - acc: 0.8363\n",
      "Epoch 92/100\n",
      "8000/8000 [==============================] - 0s 55us/sample - loss: 0.3930 - acc: 0.8374\n",
      "Epoch 93/100\n",
      "8000/8000 [==============================] - 0s 54us/sample - loss: 0.3917 - acc: 0.8370\n",
      "Epoch 94/100\n",
      "8000/8000 [==============================] - 0s 54us/sample - loss: 0.3919 - acc: 0.8375\n",
      "Epoch 95/100\n",
      "8000/8000 [==============================] - 0s 53us/sample - loss: 0.3910 - acc: 0.8382\n",
      "Epoch 96/100\n",
      "8000/8000 [==============================] - 0s 54us/sample - loss: 0.3896 - acc: 0.8365\n",
      "Epoch 97/100\n",
      "8000/8000 [==============================] - 0s 54us/sample - loss: 0.3877 - acc: 0.8396\n",
      "Epoch 98/100\n",
      "8000/8000 [==============================] - 0s 57us/sample - loss: 0.3791 - acc: 0.8435\n",
      "Epoch 99/100\n",
      "8000/8000 [==============================] - 0s 54us/sample - loss: 0.3657 - acc: 0.8515\n",
      "Epoch 100/100\n",
      "8000/8000 [==============================] - 0s 54us/sample - loss: 0.3540 - acc: 0.8551\n"
     ]
    },
    {
     "data": {
      "text/plain": [
       "<tensorflow.python.keras.callbacks.History at 0x1c2e3c476a0>"
      ]
     },
     "execution_count": 26,
     "metadata": {},
     "output_type": "execute_result"
    }
   ],
   "source": [
    "#Fitting the ANN to Training set \n",
    "classifier.fit(X_train, y_train, batch_size=10, nb_epoch=100)"
   ]
  },
  {
   "cell_type": "markdown",
   "metadata": {},
   "source": [
    "### Part 3 - Making the predictions and evaluation the model"
   ]
  },
  {
   "cell_type": "code",
   "execution_count": 27,
   "metadata": {},
   "outputs": [
    {
     "name": "stdout",
     "output_type": "stream",
     "text": [
      "[[False]\n",
      " [False]\n",
      " [False]\n",
      " [False]\n",
      " [False]]\n"
     ]
    }
   ],
   "source": [
    "#Predicting the testset results\n",
    "y_pred = classifier.predict(X_test)\n",
    "y_pred = (y_pred > 0.5)\n",
    "print(y_pred[0:5])"
   ]
  },
  {
   "cell_type": "code",
   "execution_count": 28,
   "metadata": {},
   "outputs": [
    {
     "name": "stdout",
     "output_type": "stream",
     "text": [
      "[[1511   84]\n",
      " [ 190  215]]\n"
     ]
    }
   ],
   "source": [
    "#Making the confusion Matrix\n",
    "from sklearn.metrics import confusion_matrix, accuracy_score\n",
    "cm = confusion_matrix(y_test, y_pred)\n",
    "print(cm)"
   ]
  },
  {
   "cell_type": "code",
   "execution_count": 29,
   "metadata": {},
   "outputs": [
    {
     "name": "stdout",
     "output_type": "stream",
     "text": [
      "0.863\n"
     ]
    }
   ],
   "source": [
    "accuracy = accuracy_score(y_test, y_pred)\n",
    "print(accuracy)"
   ]
  },
  {
   "cell_type": "code",
   "execution_count": null,
   "metadata": {},
   "outputs": [],
   "source": []
  }
 ],
 "metadata": {
  "kernelspec": {
   "display_name": "Python 3",
   "language": "python",
   "name": "python3"
  },
  "language_info": {
   "codemirror_mode": {
    "name": "ipython",
    "version": 3
   },
   "file_extension": ".py",
   "mimetype": "text/x-python",
   "name": "python",
   "nbconvert_exporter": "python",
   "pygments_lexer": "ipython3",
   "version": "3.7.3"
  }
 },
 "nbformat": 4,
 "nbformat_minor": 2
}
